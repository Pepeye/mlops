{
 "cells": [
  {
   "cell_type": "markdown",
   "metadata": {},
   "source": [
    "# redis\n",
    "\n",
    "testing the [redis.rs](https://crates.io/crates/redis) rust client using [jupyter labs notebooks](https://jupyter.org/try)"
   ]
  }
 ],
 "metadata": {
  "language_info": {
   "name": "python"
  }
 },
 "nbformat": 4,
 "nbformat_minor": 2
}
