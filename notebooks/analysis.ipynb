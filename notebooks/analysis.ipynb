{
 "cells": [
  {
   "cell_type": "code",
   "execution_count": 2,
   "metadata": {
    "vscode": {
     "languageId": "rust"
    }
   },
   "outputs": [],
   "source": [
    "// add packages\n",
    ":dep polars = { version = \"0.34.2\", features = [\"lazy\", \"temporal\", \"describe\", \"json\", \"parquet\", \"dtype-datetime\"] }\n",
    ":dep tokio = { version = \"1\", features = [\"full\"] }\n",
    ":dep rayon = \"1.8.0\""
   ]
  },
  {
   "cell_type": "code",
   "execution_count": 3,
   "metadata": {
    "vscode": {
     "languageId": "rust"
    }
   },
   "outputs": [],
   "source": [
    "// import dependencies\n",
    "use polars::prelude::*;"
   ]
  },
  {
   "cell_type": "code",
   "execution_count": 34,
   "metadata": {
    "vscode": {
     "languageId": "rust"
    }
   },
   "outputs": [
    {
     "data": {
      "text/plain": [
       "shape: (31, 21)\n",
       "┌─────────┬──────┬────────┬─────────────┬───┬─────────────┬─────────────┬─────────────┬────────────┐\n",
       "│ country ┆ Year ┆ Region ┆ CO2         ┆ … ┆ Coal and    ┆ Share of    ┆ Crude oil   ┆ Coal and   │\n",
       "│ ---     ┆ ---  ┆ ---    ┆ emissions   ┆   ┆ lignite     ┆ wind and    ┆ production  ┆ lignite    │\n",
       "│ str     ┆ i64  ┆ str    ┆ from fuel   ┆   ┆ domestic    ┆ solar in    ┆ (Mt)        ┆ production │\n",
       "│         ┆      ┆        ┆ combusti…   ┆   ┆ consum…     ┆ elect…      ┆ ---         ┆ (Mt)       │\n",
       "│         ┆      ┆        ┆ ---         ┆   ┆ ---         ┆ ---         ┆ f64         ┆ ---        │\n",
       "│         ┆      ┆        ┆ f64         ┆   ┆ f64         ┆ f64         ┆             ┆ f64        │\n",
       "╞═════════╪══════╪════════╪═════════════╪═══╪═════════════╪═════════════╪═════════════╪════════════╡\n",
       "│ Nigeria ┆ 1990 ┆ Africa ┆ 28.320678   ┆ … ┆ 0.075       ┆ 0.0         ┆ 88.322      ┆ 0.09       │\n",
       "│ Nigeria ┆ 1991 ┆ Africa ┆ 33.591432   ┆ … ┆ 0.073       ┆ 0.0         ┆ 92.144      ┆ 0.1        │\n",
       "│ Nigeria ┆ 1992 ┆ Africa ┆ 40.145988   ┆ … ┆ 0.052       ┆ 0.0         ┆ 95.575      ┆ 0.087      │\n",
       "│ Nigeria ┆ 1993 ┆ Africa ┆ 36.639818   ┆ … ┆ 0.008       ┆ 0.0         ┆ 96.509      ┆ 0.028      │\n",
       "│ …       ┆ …    ┆ …      ┆ …           ┆ … ┆ …           ┆ …           ┆ …           ┆ …          │\n",
       "│ Nigeria ┆ 2017 ┆ Africa ┆ 88.138919   ┆ … ┆ 0.046371    ┆ 0.081132    ┆ 93.28604    ┆ 0.046371   │\n",
       "│ Nigeria ┆ 2018 ┆ Africa ┆ 106.66905   ┆ … ┆ 0.047269    ┆ 0.077031    ┆ 95.741906   ┆ 0.047269   │\n",
       "│ Nigeria ┆ 2019 ┆ Africa ┆ 89.018438   ┆ … ┆ 0.045       ┆ 0.091331    ┆ 101.297304  ┆ 0.045      │\n",
       "│ Nigeria ┆ 2020 ┆ Africa ┆ 89.361181   ┆ … ┆ 0.04284     ┆ 0.085791    ┆ 86.808176   ┆ 0.04284    │\n",
       "└─────────┴──────┴────────┴─────────────┴───┴─────────────┴─────────────┴─────────────┴────────────┘"
      ]
     },
     "execution_count": 34,
     "metadata": {},
     "output_type": "execute_result"
    }
   ],
   "source": [
    "let df: DataFrame = LazyCsvReader::new(\"../data/stats/worldenergydata/*.csv\")\n",
    "    .has_header(true)\n",
    "    .with_null_values(Some(NullValues::AllColumnsSingle(String::from(\"n.a.\"))))\n",
    "    .with_ignore_errors(true)\n",
    "    .with_missing_is_null(true)\n",
    "    .finish()?\n",
    "    .filter(col(\"country\").eq(lit(\"Nigeria\")))\n",
    "    // .filter(col(\"Year\").eq(lit(2020)))\n",
    "    .collect()?;\n",
    "\n",
    "df"
   ]
  },
  {
   "cell_type": "code",
   "execution_count": null,
   "metadata": {
    "vscode": {
     "languageId": "rust"
    }
   },
   "outputs": [],
   "source": []
  }
 ],
 "metadata": {
  "kernelspec": {
   "display_name": "Rust",
   "language": "rust",
   "name": "rust"
  },
  "language_info": {
   "codemirror_mode": "rust",
   "file_extension": ".rs",
   "mimetype": "text/rust",
   "name": "Rust",
   "pygment_lexer": "rust",
   "version": ""
  }
 },
 "nbformat": 4,
 "nbformat_minor": 2
}
