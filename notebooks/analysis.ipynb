{
 "cells": [
  {
   "cell_type": "code",
   "execution_count": 2,
   "metadata": {
    "vscode": {
     "languageId": "rust"
    }
   },
   "outputs": [],
   "source": [
    "// add packages\n",
    ":dep polars = { version = \"0.34.2\", features = [\"lazy\", \"temporal\", \"describe\", \"json\", \"parquet\", \"dtype-datetime\"] }\n",
    ":dep tokio = { version = \"1\", features = [\"full\"] }\n",
    ":dep rayon = \"1.8.0\""
   ]
  },
  {
   "cell_type": "code",
   "execution_count": null,
   "metadata": {
    "vscode": {
     "languageId": "rust"
    }
   },
   "outputs": [],
   "source": [
    "// import dependencies\n",
    "use polars::prelude::*;\n",
    "use rayon::prelude::*;"
   ]
  },
  {
   "cell_type": "code",
   "execution_count": null,
   "metadata": {
    "vscode": {
     "languageId": "rust"
    }
   },
   "outputs": [],
   "source": [
    "let lf: LazyFrame = LazyCsvReader::new(\"./data/stats/worldfactbook/*.csv\")\n",
    "    .has_header(true)\n",
    "    .finish()?\n",
    "\n",
    "// let r = lf\n",
    "//     .filter(col(\"Symbol\").eq(lit(\"XRP\")))\n",
    "//     .collect()?;\n",
    "\n",
    "lf"
   ]
  }
 ],
 "metadata": {
  "kernelspec": {
   "display_name": "Rust",
   "language": "rust",
   "name": "rust"
  },
  "language_info": {
   "codemirror_mode": "rust",
   "file_extension": ".rs",
   "mimetype": "text/rust",
   "name": "Rust",
   "pygment_lexer": "rust",
   "version": ""
  }
 },
 "nbformat": 4,
 "nbformat_minor": 2
}
