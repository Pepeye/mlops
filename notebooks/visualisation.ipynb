{
 "cells": [
  {
   "cell_type": "code",
   "execution_count": null,
   "metadata": {},
   "outputs": [],
   "source": [
    "// import packages\n",
    ":dep plotly = \"0.8.0\""
   ]
  },
  {
   "cell_type": "code",
   "execution_count": null,
   "metadata": {},
   "outputs": [],
   "source": [
    "// import module dependencies\n",
    "use plotly::common::Mode;\n",
    "use plotly::layout::Axis;\n",
    "use plotly::{Bubble, Layout, Plot, Scatter};"
   ]
  },
  {
   "cell_type": "code",
   "execution_count": null,
   "metadata": {},
   "outputs": [],
   "source": [
    "let trace1 = Scatter::new(vec![1, 2, 3, 4], vec![10, 11, 12, 13])\n",
    "    .mode(Mode::Markers)\n",
    "    .marker(\n",
    "        Bubble::new()\n",
    "            .size(vec![40, 60, 80, 100])\n",
    "            .color(vec![0, 1, 2, 3]),\n",
    "    )\n",
    "    .name(\"Bubble Chart\");\n",
    "\n",
    "let mut plot = Plot::new();\n",
    "plot.add_trace(trace1);\n",
    "\n",
    "let layout = Layout::new()\n",
    "    .title(\"Bubble Chart Example\")\n",
    "    .x_axis(Axis::new().title(\"X Axis Title\"))\n",
    "    .y_axis(Axis::new().title(\"Y Axis Title\"));\n",
    "\n",
    "plot.set_layout(layout);\n",
    "\n",
    "plot.show_in_notebook();"
   ]
  },
  {
   "cell_type": "code",
   "execution_count": null,
   "metadata": {},
   "outputs": [],
   "source": []
  }
 ],
 "metadata": {
  "kernelspec": {
   "display_name": "Rust",
   "language": "rust",
   "name": "rust"
  },
  "language_info": {
   "name": "rust"
  }
 },
 "nbformat": 4,
 "nbformat_minor": 4
}
