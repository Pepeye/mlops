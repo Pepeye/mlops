{
 "cells": [
  {
   "cell_type": "code",
   "execution_count": null,
   "metadata": {},
   "outputs": [],
   "source": [
    "# turso\n",
    "\n",
    "testing [libsql-client](https://crates.io/crates/libsql-client) rust client for [turso](https://turso.tech) using [jupyter labs notebooks](https://jupyter.org/try)\n"
   ]
  }
 ],
 "metadata": {
  "language_info": {
   "name": "python"
  }
 },
 "nbformat": 4,
 "nbformat_minor": 2
}
