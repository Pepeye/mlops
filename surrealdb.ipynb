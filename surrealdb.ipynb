{
 "cells": [
  {
   "cell_type": "markdown",
   "metadata": {},
   "source": [
    "# surrealdb\n",
    "\n",
    "testing [surrealdb.rs](https://crates.io/crates/surrealdb) rust client using [jupyter labs notebooks](https://jupyter.org/try)"
   ]
  },
  {
   "cell_type": "code",
   "execution_count": 10,
   "metadata": {
    "vscode": {
     "languageId": "rust"
    }
   },
   "outputs": [],
   "source": [
    "// install packages\n",
    ":dep color-eyre = \"0.6.2\"\n",
    "// :dep uuid = { version = \"1.3.0\", features = [\"v4\", \"macro-diagnostics\", \"fast-rng\", \"serde\"] }\n",
    ":dep serde = \"1.0.189\"\n",
    ":dep serde_json = \"1.0.107\"\n",
    ":dep tokio = { version = \"1.33.0\", features = [\"full\"] }\n",
    ":dep surrealdb = \"1\"\n",
    ":dep chrono = \"0.4.31\""
   ]
  },
  {
   "cell_type": "code",
   "execution_count": 11,
   "metadata": {
    "vscode": {
     "languageId": "rust"
    }
   },
   "outputs": [],
   "source": [
    "use serde::{Deserialize, Serialize};\n",
    "use serde_json::json;\n",
    "use std::borrow::Cow;\n",
    "use surrealdb::sql;\n",
    "use surrealdb::sql::Thing;\n",
    "use surrealdb::Surreal;\n",
    "use surrealdb::engine::remote::ws::Ws;\n",
    "use surrealdb::opt::auth::Root;\n",
    "use chrono::{DateTime, Utc};"
   ]
  },
  {
   "cell_type": "code",
   "execution_count": 15,
   "metadata": {
    "vscode": {
     "languageId": "rust"
    }
   },
   "outputs": [],
   "source": [
    "\n",
    "#[derive(Debug, Serialize, Deserialize)]\n",
    "struct Name {\n",
    "    firstname: String,\n",
    "    lastname: String,\n",
    "}\n",
    "\n",
    "#[derive(Debug, Serialize, Deserialize)]\n",
    "pub struct Identity {\n",
    "    id: Option<Thing>,\n",
    "    email: String,\n",
    "    login: String,\n",
    "    password: String,\n",
    "    preferred: bool,\n",
    "    provider: Provider,\n",
    "}\n",
    "\n",
    "#[derive(Debug, Serialize, Deserialize)]\n",
    "pub struct Provider {\n",
    "    id: Option<Thing>,\n",
    "    name: String,\n",
    "}\n",
    "\n",
    "#[derive(Debug, Serialize, Deserialize)]\n",
    "struct Person {\n",
    "    #[serde(skip_serializing)]\n",
    "    id: Option<Thing>,\n",
    "    nickname: String,\n",
    "    name: Name,\n",
    "    identity: Identity,\n",
    "    created: DateTime<Utc>, // UTC timestamp for creation time\n",
    "    updated: DateTime<Utc>, // UTC timestamp for update time\n",
    "}\n",
    "\n",
    "#[derive(Debug, Serialize, Deserialize)]\n",
    "struct NewPerson {\n",
    "    name: Name,\n",
    "    nickname: String,\n",
    "    status: String,\n",
    "    email: String,\n",
    "    login: String,\n",
    "    password: String,\n",
    "    preferred: bool,\n",
    "    provider: String,\n",
    "    created: DateTime<Utc>, // UTC timestamp for creation time\n",
    "    updated: DateTime<Utc>, // UTC timestamp for update time\n",
    "}\n"
   ]
  },
  {
   "cell_type": "markdown",
   "metadata": {},
   "source": [
    "### request payload\n",
    "\n",
    "The following data payload will be used to create a record in edgedb and used for retrieval purposes\n",
    "```json\n",
    "{\n",
    "  \"name\": {\n",
    "    \"firstname\": \"tony\",\n",
    "    \"lastname\": \"stark\",\n",
    "  },\n",
    "  \"nickname\": \"ironman\",\n",
    "  \"status\": \"PENDING\",\n",
    "  \"email\": \"ironman@avengers.com\",\n",
    "  \"login\": \"@ironman\",\n",
    "  \"password\": \"$2b$12$lH23QLU6pRf9g8jJW91HvOrPbGDFzwZ6x8Lz0jKkMQ7Bmgf1Sw9He\",\n",
    "  \"preferred\": true,\n",
    "  \"provider\": \"ardency\"\n",
    "}\n",
    "```"
   ]
  },
  {
   "cell_type": "code",
   "execution_count": 16,
   "metadata": {
    "vscode": {
     "languageId": "rust"
    }
   },
   "outputs": [
    {
     "name": "stderr",
     "output_type": "stream",
     "text": [
      "The type of the variable people was redefined, so was lost.\n",
      "The type of the variable tobie was redefined, so was lost.\n",
      "thread 'tokio-runtime-worker' panicked at 'there is no reactor running, must be called from the context of a Tokio 1.x runtime', /Users/pepeye/.cargo/registry/src/index.crates.io-6f17d22bba15001f/tokio-1.33.0/src/time/interval.rs:138:26\n",
      "stack backtrace:\n",
      "   0: _rust_begin_unwind\n",
      "   1: core::panicking::panic_fmt\n",
      "   2: tokio::runtime::scheduler::Handle::current\n",
      "   3: tokio::time::sleep::Sleep::new_timeout\n",
      "   4: tokio::time::interval::interval\n",
      "   5: surrealdb::api::engine::remote::ws::native::router::{{closure}}\n",
      "   6: tokio::runtime::task::core::Core<T,S>::poll\n",
      "   7: tokio::runtime::task::harness::Harness<T,S>::poll\n",
      "   8: tokio::runtime::scheduler::multi_thread::worker::Context::run_task\n",
      "   9: tokio::runtime::scheduler::multi_thread::worker::Context::run\n",
      "  10: tokio::runtime::context::scoped::Scoped<T>::set\n",
      "  11: tokio::runtime::context::runtime::enter_runtime\n",
      "  12: tokio::runtime::scheduler::multi_thread::worker::run\n",
      "  13: <tokio::runtime::blocking::task::BlockingTask<T> as core::future::future::Future>::poll\n",
      "  14: tokio::runtime::task::core::Core<T,S>::poll\n",
      "  15: tokio::runtime::task::harness::Harness<T,S>::poll\n",
      "  16: tokio::runtime::blocking::pool::Inner::run\n",
      "note: Some details are omitted, run with `RUST_BACKTRACE=full` for a verbose backtrace.\n"
     ]
    }
   ],
   "source": [
    "let db = Surreal::new::<Ws>(\"localhost:8000\").await?;\n",
    "\n",
    "// Signin as a namespace, database, or root user\n",
    "db.signin(Root {\n",
    "    username: \"root\",\n",
    "    password: \"root\",\n",
    "})\n",
    ".await?;\n",
    "\n",
    "// Select a specific namespace and database\n",
    "db.use_ns(\"labs\").use_db(\"labs\").await?;\n",
    "\n",
    "// get current time\n",
    "let current_time = Utc::now(); \n",
    "\n",
    "// Create a new person with a random ID\n",
    "let tobie: Vec<Person> = db\n",
    "    .create(\"person\")\n",
    "    .content(Person {\n",
    "        id: None,\n",
    "        nickname: \"ironman\".into(),\n",
    "        name: Name {\n",
    "            firstname: \"Tony\".into(),\n",
    "            lastname: \"Stark\".into(),\n",
    "        },\n",
    "        identity: Identity {\n",
    "            id: None,\n",
    "            login: \"@ironman\".into(),\n",
    "            email: \"ironman@avengers.com\".into(),\n",
    "            password: \"$2b$12$lH23QLU6pRf9g8jJW91HvOrPbGDFzwZ6x8Lz0jKkMQ7Bmgf1Sw9He\".into(),\n",
    "            preferred: true,\n",
    "            provider: Provider {\n",
    "                id: None,\n",
    "                name: \"ardency\".into(),\n",
    "            }\n",
    "        },\n",
    "        \n",
    "        created: current_time,\n",
    "        updated: current_time, \n",
    "    })\n",
    "    .await?;\n",
    "\n",
    "// Select all people records\n",
    "let people: Vec<Person> = db.select(\"person\").await?;\n",
    "\n",
    "println!(\"{:?}\",people)"
   ]
  }
 ],
 "metadata": {
  "kernelspec": {
   "display_name": "Rust",
   "language": "rust",
   "name": "rust"
  },
  "language_info": {
   "codemirror_mode": "rust",
   "file_extension": ".rs",
   "mimetype": "text/rust",
   "name": "Rust",
   "pygment_lexer": "rust",
   "version": ""
  }
 },
 "nbformat": 4,
 "nbformat_minor": 4
}
