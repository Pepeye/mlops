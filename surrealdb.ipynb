{
 "cells": [
  {
   "cell_type": "code",
   "execution_count": null,
   "metadata": {},
   "outputs": [],
   "source": [
    "# surrealdb\n",
    "\n",
    "testing [surrealdb.rs](https://crates.io/crates/surrealdb) rust client using [jupyter labs notebooks](https://jupyter.org/try)"
   ]
  }
 ],
 "metadata": {
  "language_info": {
   "name": "python"
  }
 },
 "nbformat": 4,
 "nbformat_minor": 2
}
