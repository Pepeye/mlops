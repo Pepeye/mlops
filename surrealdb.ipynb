{
 "cells": [
  {
   "cell_type": "markdown",
   "metadata": {},
   "source": [
    "# surrealdb\n",
    "\n",
    "testing [surrealdb.rs](https://crates.io/crates/surrealdb) rust client using [jupyter labs notebooks](https://jupyter.org/try)"
   ]
  },
  {
   "cell_type": "code",
   "execution_count": 2,
   "metadata": {
    "vscode": {
     "languageId": "rust"
    }
   },
   "outputs": [],
   "source": [
    "// install packages\n",
    ":dep color-eyre = \"0.6.2\"\n",
    "// :dep uuid = { version = \"1.3.0\", features = [\"v4\", \"macro-diagnostics\", \"fast-rng\", \"serde\"] }\n",
    ":dep serde = \"1.0.189\"\n",
    ":dep serde_json = \"1.0.107\"\n",
    ":dep tokio = { version = \"1.33.0\", features = [\"full\"] }\n",
    ":dep surrealdb = \"1\"\n",
    ":dep ulid = \"1.1.0\"\n",
    ":dep nanoid = \"0.4.0\"\n",
    ":dep chrono = \"0.4.31\""
   ]
  },
  {
   "cell_type": "markdown",
   "metadata": {},
   "source": [
    "# surrealdb-cli\n",
    "\n",
    "the following command will start a surreal sql command-line prompt to query the database\n",
    "\n",
    "```sh\n",
    "# run the surreal db sql cli\n",
    "surreal sql --conn http://localhost:8000 --user root --pass root --ns labs --db labs --pretty --\n",
    "json\n",
    "```\n",
    "\n",
    "surreal db has various types of unique identifiers. Under the hood it seems to be using the `nanoid` crate to generate new IDs but it also has support for both `ulid` and `uuid`.\n",
    "\n",
    "```sh\n",
    "# create person with uuid\n",
    "❯ CREATE person:uuid();\n",
    "[\n",
    "    {\n",
    "        \"id\": \"person:⟨018b6377-0003-7307-a07d-c351272be86b⟩\"\n",
    "    }\n",
    "]\n",
    "\n",
    "# create person with ulid\n",
    "❯ CREATE person:ulid();\n",
    "[\n",
    "        \n",
    "    {\n",
    "        \"id\": \"person:01HDHQD6X9NKMTSSM0NZKK47WR\"\n",
    "    }\n",
    "]\n",
    "```"
   ]
  },
  {
   "cell_type": "code",
   "execution_count": 9,
   "metadata": {
    "vscode": {
     "languageId": "rust"
    }
   },
   "outputs": [],
   "source": [
    "use color_eyre::eyre::Result;\n",
    "use serde::{Deserialize, Serialize};\n",
    "use serde_json::json;\n",
    "use std::borrow::Cow;\n",
    "use surrealdb::sql;\n",
    "use surrealdb::sql::Thing;\n",
    "use surrealdb::Surreal;\n",
    "use surrealdb::engine::remote::ws::Ws;\n",
    "use surrealdb::opt::auth::Root;\n",
    "use chrono::{DateTime, Utc};\n"
   ]
  },
  {
   "cell_type": "code",
   "execution_count": 10,
   "metadata": {
    "vscode": {
     "languageId": "rust"
    }
   },
   "outputs": [],
   "source": [
    "\n",
    "#[derive(Debug, Serialize, Deserialize)]\n",
    "struct Name {\n",
    "    firstname: String,\n",
    "    lastname: String,\n",
    "}\n",
    "\n",
    "#[derive(Debug, Serialize, Deserialize)]\n",
    "pub struct Identity {\n",
    "    email: String,\n",
    "    login: String,\n",
    "    password: String,\n",
    "    preferred: bool,\n",
    "    providers: Vec<Provider>,\n",
    "}\n",
    "\n",
    "#[derive(Debug, Serialize, Deserialize)]\n",
    "pub struct Provider {\n",
    "    name: String,\n",
    "}\n",
    "\n",
    "#[derive(Debug, Serialize, Deserialize)]\n",
    "struct Person {\n",
    "    #[serde(skip_serializing)]\n",
    "    id: Option<Thing>,\n",
    "    nickname: String,\n",
    "    name: Name,\n",
    "    identity: Identity,\n",
    "    created: DateTime<Utc>, // UTC timestamp for creation time\n",
    "    updated: DateTime<Utc>, // UTC timestamp for update time\n",
    "}\n",
    "\n",
    "#[derive(Debug, Serialize, Deserialize)]\n",
    "struct NewPerson {\n",
    "    name: Name,\n",
    "    nickname: String,\n",
    "    status: String,\n",
    "    email: String,\n",
    "    login: String,\n",
    "    password: String,\n",
    "    preferred: bool,\n",
    "    provider: String,\n",
    "    created: DateTime<Utc>, // UTC timestamp for creation time\n",
    "    updated: DateTime<Utc>, // UTC timestamp for update time\n",
    "}\n"
   ]
  },
  {
   "cell_type": "markdown",
   "metadata": {},
   "source": [
    "### request payload\n",
    "\n",
    "The following data payload will be used to create a record in edgedb and used for retrieval purposes\n",
    "```json\n",
    "{\n",
    "  \"name\": {\n",
    "    \"firstname\": \"tony\",\n",
    "    \"lastname\": \"stark\",\n",
    "  },\n",
    "  \"nickname\": \"ironman\",\n",
    "  \"status\": \"PENDING\",\n",
    "  \"email\": \"ironman@avengers.com\",\n",
    "  \"login\": \"@ironman\",\n",
    "  \"password\": \"$2b$12$lH23QLU6pRf9g8jJW91HvOrPbGDFzwZ6x8Lz0jKkMQ7Bmgf1Sw9He\",\n",
    "  \"preferred\": true,\n",
    "  \"provider\": \"ardency\"\n",
    "}\n",
    "```"
   ]
  },
  {
   "cell_type": "code",
   "execution_count": 12,
   "metadata": {
    "vscode": {
     "languageId": "rust"
    }
   },
   "outputs": [
    {
     "data": {
      "text/plain": [
       "Err(Failed to convert `[{ id: person:⟨018b6377-0003-7307-a07d-c351272be86b⟩ }, { id: person:01HDHQD6X9NKMTSSM0NZKK47WR }, { created: '2023-10-24T21:33:41.196297Z', id: person:d4y9zm0y9l5kfwqeiwnb, identity: { email: 'ironman@avengers.com', login: '@ironman', password: '$2b$12$lH23QLU6pRf9g8jJW91HvOrPbGDFzwZ6x8Lz0jKkMQ7Bmgf1Sw9He', preferred: true, providers: [{ name: 'ardency' }] }, name: { firstname: 'Tony', lastname: 'Stark' }, nickname: 'ironman', updated: '2023-10-24T21:33:41.196297Z' }]` to `T`: missing field `nickname`\n",
       "\n",
       "Caused by:\n",
       "    Failed to convert `[{ id: person:⟨018b6377-0003-7307-a07d-c351272be86b⟩ }, { id: person:01HDHQD6X9NKMTSSM0NZKK47WR }, { created: '2023-10-24T21:33:41.196297Z', id: person:d4y9zm0y9l5kfwqeiwnb, identity: { email: 'ironman@avengers.com', login: '@ironman', password: '$2b$12$lH23QLU6pRf9g8jJW91HvOrPbGDFzwZ6x8Lz0jKkMQ7Bmgf1Sw9He', preferred: true, providers: [{ name: 'ardency' }] }, name: { firstname: 'Tony', lastname: 'Stark' }, nickname: 'ironman', updated: '2023-10-24T21:33:41.196297Z' }]` to `T`: missing field `nickname`\n",
       "\n",
       "Location:\n",
       "    src/lib.rs:100:31)"
      ]
     },
     "execution_count": 12,
     "metadata": {},
     "output_type": "execute_result"
    }
   ],
   "source": [
    "#[tokio::main]\n",
    "async fn main() -> Result<()> {\n",
    "    let db = Surreal::new::<Ws>(\"localhost:8000\").await?;\n",
    "\n",
    "    // Signin as a namespace, database, or root user\n",
    "    db.signin(Root {\n",
    "        username: \"root\",\n",
    "        password: \"root\",\n",
    "    })\n",
    "    .await?;\n",
    "\n",
    "    // Select a specific namespace and database\n",
    "    db.use_ns(\"labs\").use_db(\"labs\").await?;\n",
    "\n",
    "    // get current time\n",
    "    let current_time = Utc::now(); \n",
    "\n",
    "    // Create a new person with a random ID\n",
    "    let tobie: Vec<Person> = db\n",
    "        .create(\"person\")\n",
    "        .content(Person {\n",
    "            id: None,\n",
    "            nickname: \"ironman\".into(),\n",
    "            name: Name {\n",
    "                firstname: \"Tony\".into(),\n",
    "                lastname: \"Stark\".into(),\n",
    "            },\n",
    "            identity: Identity {\n",
    "                login: \"@ironman\".into(),\n",
    "                email: \"ironman@avengers.com\".into(),\n",
    "                password: \"$2b$12$lH23QLU6pRf9g8jJW91HvOrPbGDFzwZ6x8Lz0jKkMQ7Bmgf1Sw9He\".into(),\n",
    "                preferred: true,\n",
    "                providers: vec!(Provider {\n",
    "                    name: \"ardency\".into(),\n",
    "                })\n",
    "            },\n",
    "            \n",
    "            created: current_time,\n",
    "            updated: current_time, \n",
    "        })\n",
    "        .await?;\n",
    "\n",
    "    // Select all people records\n",
    "    let people: Vec<Person> = db.select(\"person\").await?;\n",
    "\n",
    "    println!(\"{:?}\",people);\n",
    "\n",
    "    Ok(())\n",
    "}\n",
    "\n",
    "main()"
   ]
  }
 ],
 "metadata": {
  "kernelspec": {
   "display_name": "Rust",
   "language": "rust",
   "name": "rust"
  },
  "language_info": {
   "codemirror_mode": "rust",
   "file_extension": ".rs",
   "mimetype": "text/rust",
   "name": "Rust",
   "pygment_lexer": "rust",
   "version": ""
  }
 },
 "nbformat": 4,
 "nbformat_minor": 4
}
