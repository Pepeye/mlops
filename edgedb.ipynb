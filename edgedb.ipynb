{
 "cells": [
  {
   "cell_type": "markdown",
   "id": "bbb61de9-218f-4f73-88f3-6763c066b5bc",
   "metadata": {
    "slideshow": {
     "slide_type": ""
    },
    "tags": []
   },
   "source": [
    "# edgedb\n",
    "\n",
    "testing the edgedb database from rust"
   ]
  },
  {
   "cell_type": "code",
   "execution_count": 9,
   "id": "3b699b37-93cf-42ef-8892-bd1c443e98a5",
   "metadata": {
    "vscode": {
     "languageId": "rust"
    }
   },
   "outputs": [],
   "source": [
    "// import package dependencies\n",
    ":dep color-eyre = \"0.6.2\"\n",
    ":dep uuid = { version = \"1.3.0\", features = [\"v4\", \"macro-diagnostics\", \"fast-rng\", \"serde\"] }\n",
    ":dep serde = \"1.0.189\"\n",
    ":dep serde_json = \"1.0.107\"\n",
    ":dep tokio = { version = \"1.33.0\", features = [\"full\"] }\n",
    ":dep edgedb-tokio = \"0.5.0\"\n",
    ":dep edgedb-protocol = \"0.6.0\"\n",
    ":dep edgedb-derive = \"0.5.1\""
   ]
  },
  {
   "cell_type": "markdown",
   "id": "299f6c18-147a-4981-8716-a5c2f42bd8c7",
   "metadata": {},
   "source": [
    "## edgedb-cli\n",
    "\n",
    "#### setup\n",
    "\n",
    "create a new project in the root directory of the code repository by running the following commands. Note that edgedb shoul already be running in a container using docker, kubernetes or any other containerised tool.\n",
    "\n",
    "```sh\n",
    "# list all edgedbb instances\n",
    "❯ edgedb instance list\n",
    "┌────────┬───────────┬─────────────────┬──────────────┬──────────┐\n",
    "│ Kind   │ Name      │ Location        │ Version      │ Status   │\n",
    "├────────┼───────────┼─────────────────┼──────────────┼──────────┤\n",
    "│ local  │ labs      │ localhost:10705 │ 2.12+f3129ef │ inactive │\n",
    "│ local  │ tenchi    │ localhost:10706 │ 2.12+f3129ef │ inactive │\n",
    "│ remote │ localhost │ localhost:5656  │ 3.4+7598b99  │ up       │\n",
    "└────────┴───────────┴─────────────────┴──────────────┴──────────┘\n",
    "```\n",
    "\n",
    "instantiate a new project (choose remote instance name e.g. localhost)\n",
    "```sh\n",
    "# instantiate a new project\n",
    "❯ edgedb project init\n",
    "```\n",
    "\n",
    "check that the project is connected to the instance\n",
    "\n",
    "```sh\n",
    "❯ edgedb project info\n",
    "┌───────────────┬────────────────────────────────────────────┐\n",
    "│ Instance name │ localhost                                  │\n",
    "│ Project root  │ /Users/goose/Spaces/pepeye/github/ai/mlops │\n",
    "└───────────────┴────────────────────────────────────────────┘\n",
    "```\n",
    "\n",
    "#### migrations\n",
    "\n",
    "```sh\n",
    "# restore database\n",
    "❯ edgedb restore -I localhost path/to/dump/file/edgedb.dump\n",
    "```"
   ]
  },
  {
   "cell_type": "markdown",
   "id": "e7c7af96-59d8-48e3-857e-2b95f2a8180a",
   "metadata": {},
   "source": [
    "## dependencies\n",
    "\n",
    "import package dependencies"
   ]
  },
  {
   "cell_type": "code",
   "execution_count": 10,
   "id": "a85fce21-653c-4575-ae37-230ab693d3a3",
   "metadata": {
    "vscode": {
     "languageId": "rust"
    }
   },
   "outputs": [],
   "source": [
    "// import dependencies\n",
    "use color_eyre::Result;\n",
    "use edgedb_tokio::create_client;\n",
    "use edgedb_tokio::Client;\n",
    "use edgedb_derive::Queryable;\n",
    "use serde::{Serialize, Deserialize};\n",
    "use serde_json::json;\n",
    "use uuid::Uuid;"
   ]
  },
  {
   "cell_type": "markdown",
   "id": "3f997dd1",
   "metadata": {},
   "source": [
    "## connection"
   ]
  },
  {
   "cell_type": "code",
   "execution_count": 11,
   "id": "a217289f-8b59-452e-b082-ea296fd1b6a0",
   "metadata": {
    "vscode": {
     "languageId": "rust"
    }
   },
   "outputs": [
    {
     "name": "stdout",
     "output_type": "stream",
     "text": [
      "[out]: 7*8 is: 56\n",
      "[out]: Just a string\n",
      "[out]: Just a string\n"
     ]
    }
   ],
   "source": [
    "// connect to database\n",
    "let client = create_client()\n",
    "    .await\n",
    "    .expect(\"Client should have initiated\");\n",
    "\n",
    "// query\n",
    "let val: i64 = client\n",
    "    .query_required_single(\"select 7*8\", &())\n",
    "    .await\n",
    "    .expect(\"Query should have worked\");\n",
    "\n",
    "// print resulting value\n",
    "println!(\"[out]: 7*8 is: {val}\");\n",
    "\n",
    "// Without arguments: just add &() after the query\n",
    "let query_a: String =\n",
    "    client.query_required_single(\"select 'Just a string'\", &()).await?;\n",
    "\n",
    "// With arguments, same output as the previous example\n",
    "let a = \" a \";\n",
    "let b = \"string\";\n",
    "let query_b: String = client\n",
    "    .query_required_single(\"select 'Just' ++ <str>$0 ++ <str>$1\", &(a, b))\n",
    "    .await?;\n",
    "\n",
    "// print resulting value\n",
    "println!(\"[out]: {}\", query_a);\n",
    "println!(\"[out]: {}\", query_b);"
   ]
  },
  {
   "cell_type": "markdown",
   "id": "41bb3268",
   "metadata": {},
   "source": [
    "## queries\n",
    "\n",
    "edgedb query to insert a new person into the database. The data payload below is used as the variable `$0`.\n",
    "```\n",
    "with data := <json>$0\n",
    "insert Person {\n",
    "  firstname := <str>data['firstname'],\n",
    "  lastname :=  <str>data['lastname'],\n",
    "  nickname := <str>data['nickname'],\n",
    "  status :=  <Status>data['status'],\n",
    "  identity := (insert Identity {\n",
    "    email := <str>data['email'],\n",
    "    login := <str>data['login'],\n",
    "    password := <str>data['password'],\n",
    "    preferred := <bool>data['preferred'],\n",
    "    provider := (select (\n",
    "      insert Provider { name := <optional str>data['provider'] }\n",
    "      unless conflict on .name \n",
    "      else \n",
    "        (select Provider filter .name = <optional str>data['provider'] Limit 1)\n",
    "    ))\n",
    "  })\n",
    "}\n",
    "```\n",
    "\n",
    "### request payload\n",
    "\n",
    "The following data payload will be used to create a record in edgedb and used for retrieval purposes\n",
    "```json\n",
    "{\n",
    "  \"firstname\": \"tony\",\n",
    "  \"lastname\": \"stark\",\n",
    "  \"nickname\": \"ironman\",\n",
    "  \"status\": \"PENDING\",\n",
    "  \"email\": \"ironman@avengers.com\",\n",
    "  \"login\": \"@ironman\",\n",
    "  \"password\": \"$2b$12$lH23QLU6pRf9g8jJW91HvOrPbGDFzwZ6x8Lz0jKkMQ7Bmgf1Sw9He\",\n",
    "  \"preferred\": true,\n",
    "  \"provider\": \"ardency\"\n",
    "}\n",
    "```"
   ]
  },
  {
   "cell_type": "markdown",
   "id": "0721d1a5",
   "metadata": {},
   "source": [
    "## models"
   ]
  },
  {
   "cell_type": "code",
   "execution_count": 12,
   "id": "27bdbe50",
   "metadata": {
    "vscode": {
     "languageId": "rust"
    }
   },
   "outputs": [],
   "source": [
    "#[derive(Debug, Serialize, Deserialize, Queryable)]\n",
    "pub struct Person {\n",
    "    id: Uuid,\n",
    "    firstname: String,\n",
    "    lastname: String,\n",
    "    fullname: String,\n",
    "    nickname: String,\n",
    "    status: String,\n",
    "    identity: Vec<Identity>,\n",
    "    updated: String,\n",
    "    created: String,\n",
    "}\n",
    "\n",
    "#[derive(Debug, Serialize, Deserialize, Queryable)]\n",
    "pub struct Identity {\n",
    "    id: String,\n",
    "    email: String,\n",
    "    login: String,\n",
    "    password: String,\n",
    "    preferred: bool,\n",
    "    provider: Provider,\n",
    "}\n",
    "\n",
    "#[derive(Debug, Serialize, Deserialize, Queryable)]\n",
    "pub struct Provider {\n",
    "    id: String,\n",
    "    name: String,\n",
    "}\n",
    "#[derive(Debug, Serialize, Deserialize, Queryable)]\n",
    "struct NewPerson {\n",
    "  firstname: String,\n",
    "  lastname: String,\n",
    "  nickname: String,\n",
    "  status: String,\n",
    "  email: String,\n",
    "  login: String,\n",
    "  password: String,\n",
    "  preferred: bool,\n",
    "  provider: String,\n",
    "}\n",
    "\n",
    "#[derive(Debug, Queryable, Deserialize)]\n",
    "pub struct QueryResult {\n",
    "    pub id: Uuid,\n",
    "}"
   ]
  },
  {
   "cell_type": "raw",
   "id": "e2517fdd-a13f-45e0-891f-9cb122b5e1cb",
   "metadata": {},
   "source": [
    "## examples\n",
    "\n",
    "### insert\n",
    "build the type and insert into the database using parametised query"
   ]
  },
  {
   "cell_type": "code",
   "execution_count": 13,
   "id": "0762fa1a",
   "metadata": {
    "vscode": {
     "languageId": "rust"
    }
   },
   "outputs": [
    {
     "name": "stdout",
     "output_type": "stream",
     "text": [
      "[INFO]: NewPerson {\n",
      "    firstname: \"tony\",\n",
      "    lastname: \"stark\",\n",
      "    nickname: \"ironman\",\n",
      "    status: \"PENDING\",\n",
      "    email: \"ironman@avengers.com\",\n",
      "    login: \"@ironman\",\n",
      "    password: \"$2b$12$lH23QLU6pRf9g8jJW91HvOrPbGDFzwZ6x8Lz0jKkMQ7Bmgf1Sw9He\",\n",
      "    preferred: true,\n",
      "    provider: \"ardency\",\n",
      "}\n"
     ]
    },
    {
     "name": "stderr",
     "output_type": "stream",
     "text": [
      "DescriptorMismatch: \n",
      "EdgeDB returned unexpected type BaseScalar(BaseScalarTypeDescriptor { id: BaseScalar(std::json) })\n",
      "Client expected std::str\n"
     ]
    }
   ],
   "source": [
    "// create person payload\n",
    "let person = NewPerson {\n",
    "  firstname: \"tony\".to_owned(),\n",
    "  lastname: \"stark\".to_owned(),\n",
    "  nickname: \"ironman\".to_owned(),\n",
    "  status: \"PENDING\".to_owned(),\n",
    "  email: \"ironman@avengers.com\".to_owned(),\n",
    "  login: \"@ironman\".to_owned(),\n",
    "  password: \"$2b$12$lH23QLU6pRf9g8jJW91HvOrPbGDFzwZ6x8Lz0jKkMQ7Bmgf1Sw9He\".to_owned(),\n",
    "  preferred: true,\n",
    "  provider: \"ardency\".to_owned(),\n",
    "};\n",
    "\n",
    "// create database client\n",
    "let client = create_client()\n",
    "    .await\n",
    "    .expect(\"Client should have initiated\");\n",
    "\n",
    "async fn register(client: Client, person: NewPerson) -> Result<Vec<QueryResult>> {\n",
    "    let q = r#\"\n",
    "      with data := <json>$0\n",
    "      insert Person {\n",
    "        firstname := <str>data['firstname'],\n",
    "        lastname :=  <str>data['lastname'],\n",
    "        nickname := <str>data['nickname'],\n",
    "        status :=  <Status>data['status'],\n",
    "        identity := (insert Identity {\n",
    "          email := <str>data['email'],\n",
    "          login := <str>data['login'],\n",
    "          password := <str>data['password'],\n",
    "          preferred := <bool>data['preferred'],\n",
    "          provider := (select (\n",
    "            insert Provider { name := <optional str>data['provider'] }\n",
    "            unless conflict on .name \n",
    "            else \n",
    "              (select Provider filter .name = <optional str>data['provider'] Limit 1)\n",
    "          ))\n",
    "        })\n",
    "      }\n",
    "    \"#;\n",
    "    \n",
    "    let data = serde_json::to_string(&person)?;\n",
    "    let id = client.query(q, &(data,)).await?;\n",
    "    Ok(id)\n",
    "}\n",
    "\n",
    "println!(\"[INFO]: {:#?}\",person);\n",
    "let id = register(client, person).await?;\n",
    "id"
   ]
  },
  {
   "cell_type": "markdown",
   "id": "177fa6b3-50cd-4547-a493-0fbcd89d4ee5",
   "metadata": {},
   "source": [
    "### select\n",
    "\n",
    "query and retrieve data from the database"
   ]
  },
  {
   "cell_type": "code",
   "execution_count": 14,
   "id": "b327908a-a407-47fb-ad90-f15d19cfe970",
   "metadata": {
    "vscode": {
     "languageId": "rust"
    }
   },
   "outputs": [
    {
     "name": "stderr",
     "output_type": "stream",
     "text": [
      "DescriptorMismatch\n"
     ]
    }
   ],
   "source": [
    "// make pool connection to database\n",
    "let client = create_client().await?;\n",
    "\n",
    "// define a query\n",
    "let query = r#\"\n",
    "    select Person {\n",
    "        id,\n",
    "        firstname,\n",
    "        lastname,\n",
    "        fullname,\n",
    "        nickname,\n",
    "        status,\n",
    "        identity: {\n",
    "            id,\n",
    "            email,\n",
    "            login,\n",
    "            password,\n",
    "            preferred,\n",
    "            provider: {\n",
    "                id,\n",
    "                name,\n",
    "            },\n",
    "        },\n",
    "        updated,\n",
    "        created,\n",
    "    }\n",
    "\"#;\n",
    "\n",
    "// // fetch data\n",
    "let r: Vec<Person> = client.query(query, &()).await?;\n",
    "r"
   ]
  },
  {
   "cell_type": "code",
   "execution_count": null,
   "id": "4a387bf2-abc3-4a9f-b361-23f7510828bc",
   "metadata": {
    "vscode": {
     "languageId": "rust"
    }
   },
   "outputs": [],
   "source": []
  }
 ],
 "metadata": {
  "kernelspec": {
   "display_name": "Rust",
   "language": "rust",
   "name": "rust"
  },
  "language_info": {
   "codemirror_mode": "rust",
   "file_extension": ".rs",
   "mimetype": "text/rust",
   "name": "Rust",
   "pygment_lexer": "rust",
   "version": ""
  }
 },
 "nbformat": 4,
 "nbformat_minor": 5
}
