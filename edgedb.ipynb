{
 "cells": [
  {
   "cell_type": "markdown",
   "id": "bbb61de9-218f-4f73-88f3-6763c066b5bc",
   "metadata": {
    "slideshow": {
     "slide_type": ""
    },
    "tags": []
   },
   "source": [
    "# edgedbb\n",
    "testing the edgedb database from rust"
   ]
  },
  {
   "cell_type": "raw",
   "id": "6f8d9e7b-8d80-4b5b-826f-9cf667cd3856",
   "metadata": {},
   "source": [
    "import package dependencies"
   ]
  },
  {
   "cell_type": "code",
   "execution_count": 2,
   "id": "3b699b37-93cf-42ef-8892-bd1c443e98a5",
   "metadata": {},
   "outputs": [],
   "source": [
    ":dep thiserror = \"1.0.49\"\n",
    ":dep serde = \"1.0.189\"\n",
    ":dep serde_json = \"1.0.107\"\n",
    ":dep tokio = { version = \"1.33.0\", features = [\"full\"] }\n",
    ":dep edgedb-tokio = \"0.5.0\"\n",
    ":dep edgedb-protocol = \"0.6.0\"\n",
    ":dep edgedb-derive = \"0.5.1\""
   ]
  },
  {
   "cell_type": "markdown",
   "id": "299f6c18-147a-4981-8716-a5c2f42bd8c7",
   "metadata": {},
   "source": [
    "## Edgedb Cli\n",
    "\n",
    "#### setup\n",
    "\n",
    "create a new project in the root directory of the code repository by running the following commands. Note that edgedb shoul already be running in a container using docker, kubernetes or any other containerised tool.\n",
    "\n",
    "```sh\n",
    "# list all edgedbb instances\n",
    "❯ edgedb instance list\n",
    "┌────────┬───────────┬─────────────────┬──────────────┬──────────┐\n",
    "│ Kind   │ Name      │ Location        │ Version      │ Status   │\n",
    "├────────┼───────────┼─────────────────┼──────────────┼──────────┤\n",
    "│ local  │ labs      │ localhost:10705 │ 2.12+f3129ef │ inactive │\n",
    "│ local  │ tenchi    │ localhost:10706 │ 2.12+f3129ef │ inactive │\n",
    "│ remote │ localhost │ localhost:5656  │ 3.4+7598b99  │ up       │\n",
    "└────────┴───────────┴─────────────────┴──────────────┴──────────┘\n",
    "```\n",
    "\n",
    "instantiate a new project (choose remote instance name e.g. localhost)\n",
    "```sh\n",
    "# instantiate a new project\n",
    "❯ edgedb project init\n",
    "```\n",
    "\n",
    "check that the project is connected to the instance\n",
    "\n",
    "```sh\n",
    "❯ edgedb project info\n",
    "┌───────────────┬────────────────────────────────────────────┐\n",
    "│ Instance name │ localhost                                  │\n",
    "│ Project root  │ /Users/goose/Spaces/pepeye/github/ai/mlops │\n",
    "└───────────────┴────────────────────────────────────────────┘\n",
    "```\n",
    "\n",
    "#### migrations\n",
    "\n",
    "```sh\n",
    "# restore database\n",
    "❯ edgedb restore -I localhost path/to/dump/file/edgedb.dump\n",
    "```"
   ]
  },
  {
   "cell_type": "markdown",
   "id": "e7c7af96-59d8-48e3-857e-2b95f2a8180a",
   "metadata": {},
   "source": [
    "import package dependencies"
   ]
  },
  {
   "cell_type": "code",
   "execution_count": 3,
   "id": "a85fce21-653c-4575-ae37-230ab693d3a3",
   "metadata": {},
   "outputs": [],
   "source": [
    "use edgedb_tokio::create_client;\n",
    "use edgedb_tokio::Client;\n",
    "use edgedb_derive::Queryable;\n",
    "use serde::{Serialize, Deserialize};"
   ]
  },
  {
   "cell_type": "code",
   "execution_count": 7,
   "id": "a217289f-8b59-452e-b082-ea296fd1b6a0",
   "metadata": {},
   "outputs": [
    {
     "name": "stdout",
     "output_type": "stream",
     "text": [
      "[out]: 7*8 is: 56\n"
     ]
    }
   ],
   "source": [
    "// connect to database\n",
    "let client = create_client()\n",
    "    .await\n",
    "    .expect(\"Client should have initiated\");\n",
    "\n",
    "// query\n",
    "let val: i64 = client\n",
    "    .query_required_single(\"select 7*8\", &())\n",
    "    .await\n",
    "    .expect(\"Query should have worked\");\n",
    "\n",
    "// print resulting value\n",
    "println!(\"[out]: 7*8 is: {val}\");"
   ]
  },
  {
   "cell_type": "code",
   "execution_count": 8,
   "id": "0ed48a15-0a63-42ce-a0db-86a79f3ddef6",
   "metadata": {},
   "outputs": [
    {
     "name": "stdout",
     "output_type": "stream",
     "text": [
      "[out]: Just a string\n",
      "[out]: Just a string\n"
     ]
    }
   ],
   "source": [
    "// Without arguments: just add &() after the query\n",
    "let query_a: String =\n",
    "    client.query_required_single(\"select 'Just a string'\", &()).await?;\n",
    "\n",
    "// With arguments, same output as the previous example\n",
    "let a = \" a \";\n",
    "let b = \"string\";\n",
    "let query_b: String = client\n",
    "    .query_required_single(\"select 'Just' ++ <str>$0 ++ <str>$1\", &(a, b))\n",
    "    .await?;\n",
    "\n",
    "// print resulting value\n",
    "println!(\"[out]: {}\", query_a);\n",
    "println!(\"[out]: {}\", query_b);"
   ]
  },
  {
   "cell_type": "markdown",
   "id": "41bb3268",
   "metadata": {},
   "source": [
    "### Test Data\n",
    "The following data will be used to create a record in edgedb and used for retrieval purposes\n",
    "```json\n",
    "{\n",
    "    \"firstname\": \"tony\",\n",
    "    \"lastname\": \"stark\",\n",
    "    \"nickname\": \"ironman\",\n",
    "    \"status\": \"PENDING\",\n",
    "    \"email\": \"ironman@avengers.com\",\n",
    "    \"login\": \"@ironman\",\n",
    "    \"password\": \"$2b$12$lH23QLU6pRf9g8jJW91HvOrPbGDFzwZ6x8Lz0jKkMQ7Bmgf1Sw9He\",\n",
    "    \"preferred\": true,\n",
    "    \"provider\": \"ardency\"\n",
    "  }\n",
    "```"
   ]
  },
  {
   "cell_type": "code",
   "execution_count": null,
   "id": "0762fa1a",
   "metadata": {},
   "outputs": [],
   "source": [
    "use edgedb_derive::Queryable;\n",
    "use serde::{Serialize, Deserialize};\n",
    "\n",
    "let query = r#\"\n",
    "        with data := <json>$0\n",
    "        insert Person {\n",
    "          firstname := <str>data['firstname'],\n",
    "          lastname :=  <str>data['lastname'],\n",
    "          nickname := <str>data['nickname'],\n",
    "          status :=  <Status>data['status'],\n",
    "          identity := (insert Identity {\n",
    "            email := <str>data['email'],\n",
    "            login := <str>data['login'],\n",
    "            password := <str>data['password'],\n",
    "            preferred := <bool>data['preferred'],\n",
    "            provider := (select (\n",
    "              insert Provider { name := <optional str>data['provider'] }\n",
    "              unless conflict on .name \n",
    "              else \n",
    "                (select Provider filter .name = <optional str>data['provider'] Limit 1)\n",
    "            ))\n",
    "          })\n",
    "        }\n",
    "        \"\n",
    "\n",
    "let data = serde_json::to_string(&person)?;\n",
    "let id = self.pool.query(query, &(data,)).await?;\n",
    "Ok(id)"
   ]
  },
  {
   "cell_type": "code",
   "execution_count": 22,
   "id": "b327908a-a407-47fb-ad90-f15d19cfe970",
   "metadata": {},
   "outputs": [
    {
     "name": "stdout",
     "output_type": "stream",
     "text": [
      "Some(\n",
      "    Hero {\n",
      "        name: \"spiderman\",\n",
      "        email: \"spidey@avengers.com\",\n",
      "        identity: Identity {\n",
      "            firstname: \"peter\",\n",
      "            lastname: \"parker\",\n",
      "        },\n",
      "        powers: [\n",
      "            \"strength\",\n",
      "            \"speed\",\n",
      "            \"reflexes\",\n",
      "            \"healing\",\n",
      "            \"spider-sense\",\n",
      "        ],\n",
      "    },\n",
      ")\n"
     ]
    }
   ],
   "source": [
    "use edgedb_derive::Queryable;\n",
    "use serde::{Serialize, Deserialize};\n",
    "\n",
    "#[derive(Debug, Serialize, Deserialize, Queryable)]\n",
    "pub struct Hero {\n",
    "    name: String,\n",
    "    email: String,\n",
    "    identity: Identity,\n",
    "    powers: Vec<String>,\n",
    "}\n",
    "\n",
    "#[derive(Debug, Serialize, Deserialize, Queryable)]\n",
    "pub struct Identity {\n",
    "    firstname: String,\n",
    "    lastname: String,\n",
    "}\n",
    "\n",
    "// make pool connection to database\n",
    "// let pool = client.create_client().await?;\n",
    "\n",
    "// define a query\n",
    "let query = r#\"\n",
    "    select Hero {\n",
    "      name,\n",
    "      email,\n",
    "      identity: {\n",
    "        firstname,\n",
    "        lastname\n",
    "      },\n",
    "      powers\n",
    "    }\n",
    "    filter .name = <str>$0\n",
    "    limit 1\n",
    "\"#;\n",
    "\n",
    "// // fetch data\n",
    "let name = \"spiderman\";\n",
    "let r: Option<Hero> = client.query_single(query, &(name,)).await?;\n",
    "println!(\"{:#?}\", r);"
   ]
  },
  {
   "cell_type": "code",
   "execution_count": null,
   "id": "52e87fbc-34ca-4948-8e59-b3b2d2f38633",
   "metadata": {},
   "outputs": [],
   "source": []
  }
 ],
 "metadata": {
  "kernelspec": {
   "display_name": "Rust",
   "language": "rust",
   "name": "rust"
  },
  "language_info": {
   "codemirror_mode": "rust",
   "file_extension": ".rs",
   "mimetype": "text/rust",
   "name": "Rust",
   "pygment_lexer": "rust",
   "version": ""
  }
 },
 "nbformat": 4,
 "nbformat_minor": 5
}
