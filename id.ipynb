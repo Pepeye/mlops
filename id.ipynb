{
 "cells": [
  {
   "cell_type": "markdown",
   "metadata": {},
   "source": [
    "# IDs\n",
    "\n",
    "working with unique ids in rust"
   ]
  },
  {
   "cell_type": "code",
   "execution_count": 6,
   "metadata": {
    "vscode": {
     "languageId": "rust"
    }
   },
   "outputs": [],
   "source": [
    ":dep ulid = { version = \"1.1.0\", features = [\"serde\"] }\n",
    ":dep nanoid = \"0.4.0\"\n",
    ":dep chrono = \"0.4.31\""
   ]
  },
  {
   "cell_type": "code",
   "execution_count": 7,
   "metadata": {
    "vscode": {
     "languageId": "rust"
    }
   },
   "outputs": [],
   "source": [
    "use chrono::{DateTime, Utc};\n",
    "use nanoid::nanoid;\n",
    "use std::time::Instant;\n",
    "use ulid::Ulid;"
   ]
  },
  {
   "cell_type": "code",
   "execution_count": 8,
   "metadata": {
    "vscode": {
     "languageId": "rust"
    }
   },
   "outputs": [
    {
     "name": "stdout",
     "output_type": "stream",
     "text": [
      "------------------------------------\n",
      "ulid: \"01hdhswwwv0wxzde1605z6dm9p\"\n",
      "ulid elapsed: 99.916µs\n",
      "------------------------------------\n",
      "nanoid: qCnSCVW9wJV-9el0Zd9tn\n",
      "generate: zquCjTveJNK8x2mUjS2we1srGT\n",
      "custom: 0bzfyeqtrzuru3jy3jhyxgtle1\n",
      "nanoid elapsed: 8.932µs\n",
      "------------------------------------\n",
      "Person {\n",
      "    id: \"01hdhswwwvtww06kcdgvpr5310\",\n",
      "    name: \"Goose\",\n",
      "    twitter: \"@gooseish\",\n",
      "    timestamps: Timestamp {\n",
      "        created: 2023-10-24T21:36:50.587817Z,\n",
      "        updated: 2023-10-24T21:36:50.587817Z,\n",
      "    },\n",
      "}\n",
      "------------------------------------\n"
     ]
    },
    {
     "data": {
      "text/plain": [
       "()"
      ]
     },
     "execution_count": 8,
     "metadata": {},
     "output_type": "execute_result"
    }
   ],
   "source": [
    "\n",
    "// const ALPHABET: [char; 62] = [\n",
    "//     '0', '1', '2', '3', '4', '5', '6', '7', '8', '9', 'a', 'b', 'c', 'd', 'e', 'f', 'g', 'h', 'i',\n",
    "//     'j', 'k', 'l', 'm', 'n', 'o', 'p', 'q', 'r', 's', 't', 'u', 'v', 'w', 'x', 'y', 'z', 'A', 'B',\n",
    "//     'C', 'D', 'E', 'F', 'G', 'H', 'I', 'J', 'K', 'L', 'M', 'N', 'O', 'P', 'Q', 'R', 'S', 'T', 'U',\n",
    "//     'V', 'W', 'X', 'Y', 'Z',\n",
    "// ];\n",
    "\n",
    "const ALPHABET: [char; 36] = [\n",
    "    '0', '1', '2', '3', '4', '5', '6', '7', '8', '9', 'a', 'b', 'c', 'd', 'e', 'f', 'g', 'h', 'i',\n",
    "    'j', 'k', 'l', 'm', 'n', 'o', 'p', 'q', 'r', 's', 't', 'u', 'v', 'w', 'x', 'y', 'z',\n",
    "];\n",
    "\n",
    "#[derive(Debug)]\n",
    "struct Person {\n",
    "    id: String,\n",
    "    name: String,\n",
    "    twitter: String,\n",
    "    timestamps: Timestamp,\n",
    "}\n",
    "\n",
    "#[derive(Debug)]\n",
    "struct Timestamp {\n",
    "    created: DateTime<Utc>, // UTC timestamp for creation time\n",
    "    updated: DateTime<Utc>,\n",
    "}\n",
    "\n",
    "fn new_id() -> String {\n",
    "    return Ulid::new().to_string().to_lowercase();\n",
    "}\n",
    "\n",
    "fn run() {\n",
    "    // print divider\n",
    "    println!(\"------------------------------------\");\n",
    "    {\n",
    "        let start = Instant::now();\n",
    "        // Generate a ulid\n",
    "        let ulid = Ulid::new();\n",
    "        let duration = start.elapsed();\n",
    "        // Generate a string for a ulid\n",
    "        let s = ulid.to_string().to_lowercase();\n",
    "        // print ulid\n",
    "        println!(\"ulid: {:?}\", s);\n",
    "        println!(\"ulid elapsed: {:?}\", duration);\n",
    "    }\n",
    "    // print divider\n",
    "    println!(\"------------------------------------\");\n",
    "    // print nanoid variations\n",
    "    {\n",
    "        // let start = Instant::now();\n",
    "        println!(\"nanoid: {}\", nanoid!());\n",
    "        println!(\"generate: {}\", nanoid!(26));\n",
    "        let start = Instant::now();\n",
    "        println!(\"custom: {}\", nanoid!(26, &ALPHABET));\n",
    "        let duration = start.elapsed();\n",
    "        println!(\"nanoid elapsed: {:?}\", duration);\n",
    "    }\n",
    "    println!(\"------------------------------------\");\n",
    "    let t = Utc::now();\n",
    "    let p = Person {\n",
    "        id: new_id(),\n",
    "        name: String::from(\"Goose\"),\n",
    "        twitter: String::from(\"@gooseish\"),\n",
    "        timestamps: Timestamp {\n",
    "            created: t,\n",
    "            updated: t,\n",
    "        },\n",
    "    };\n",
    "    println!(\"{:#?}\", p);\n",
    "    println!(\"------------------------------------\");\n",
    "}\n",
    "\n",
    "run()"
   ]
  }
 ],
 "metadata": {
  "kernelspec": {
   "display_name": "Rust",
   "language": "rust",
   "name": "rust"
  },
  "language_info": {
   "codemirror_mode": "rust",
   "file_extension": ".rs",
   "mimetype": "text/rust",
   "name": "Rust",
   "pygment_lexer": "rust",
   "version": ""
  }
 },
 "nbformat": 4,
 "nbformat_minor": 2
}
